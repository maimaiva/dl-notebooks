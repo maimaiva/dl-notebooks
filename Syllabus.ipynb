{
 "metadata": {
  "language_info": {
   "codemirror_mode": {
    "name": "ipython",
    "version": 3
   },
   "file_extension": ".py",
   "mimetype": "text/x-python",
   "name": "python",
   "nbconvert_exporter": "python",
   "pygments_lexer": "ipython3",
   "version": 3
  },
  "orig_nbformat": 2
 },
 "nbformat": 4,
 "nbformat_minor": 2,
 "cells": [
  {
   "source": [
    "# Deep Learning and Applications"
   ],
   "cell_type": "markdown",
   "metadata": {}
  },
  {
   "source": [
    "- Version: 2021-01-03\n",
    "- Term: Spring 2021\n",
    "- CRN: 38063\n",
    "- Number of Credits: 2\n",
    "- Instructor: Dr. Theja Tulabandhula"
   ],
   "cell_type": "markdown",
   "metadata": {}
  },
  {
   "source": [
    "## Objective\n",
    "\n",
    "The goal of this class is to cover a subset of advanced machine learning techniques, after students have seen the basics of data mining (such as in IDS 572) and machine learning (such as in IDS 575). \n",
    "\n",
    "\n",
    "Broadly, we will cover topics spanning deep learning and reinforcement learning. In particular, we will study popular deep learning architectures, their design choices and how they are trained. This will be motivated by business applications dealing with image, text and tabular data. Finally, we will look at online and reinforcement learning frameworks and their role in sequential decision making settings such as retail.\n",
    "\n",
    "A tentative list of topics is as follows:\n",
    "\n",
    " - Backpropagation and feed forward neural networks\n",
    " - Convolutional networks (CNNs)\n",
    " - Recurrent networks and Long short-term memory networks (LSTMs)\n",
    " - Attention mechanism and transformers (BERT, GPT-3)\n",
    " - Variational autoencoders (VAEs)\n",
    " - Generative adversarial networks (GANs)\n",
    " - Deep reinforcement learning and Deep Q-Network (DQN)\n",
    " - Deep learning design choices such as optimizers (Adam, RMSprop), nonlinearities, embeddings, attention, dropout, batch normalization etc."
   ],
   "cell_type": "markdown",
   "metadata": {}
  },
  {
   "source": [
    "## Previous Editions\n",
    " - [Fall 2020](https://chicagodatascience.github.io/DeepLearning/) (has videos!)\n",
    " - [Fall 2019](https://chicagodatascience.github.io/f19/576/) (has videos!)\n",
    " - [Spring 2019](https://chicagodatascience.github.io/s19/576/) (has videos!)\n",
    " - [Spring 2018](https://chicagodatascience.github.io/s18/576/) (has videos!)\n",
    " - [Spring 2017](https://chicagodatascience.github.io/s17/576/) (has videos!)"
   ],
   "cell_type": "markdown",
   "metadata": {}
  },
  {
   "source": [
    "\n",
    "# Course Logistics\n",
    "\n",
    " - Semester: Fall 2020\n",
    " - Lectures: Thursdays 3.30 PM to 6.00 PM\n",
    " - Mode: Online synchronous (i.e., location is _online_). The course will be delivered over Zoom (an invite will be sent before the first day of class). See the online learning page for basic technology requirements.\n",
    " - Staff\n",
    "    - Instructor: [Dr. Theja Tulabandhula](https://theja.org) (netid: theja)\n",
    "    - Teaching Assistant: [Danial Mohseni-Taheri](https://danialtaheri.github.io/) (netid: smohse3)\n",
    " - Communication: via [slack](https://ids576workspace.slack.com), [zoom](https://uic.zoom.com) and [one note class notebook](https://uic365-my.sharepoint.com/personal/theja_uic_edu/Documents/Class%20Notebooks/IDS576).\n",
    " - Office hours: online via [slack](https://ids576workspace.slack.com) [zoom](https://uic.zoom.com).\n",
    "\n",
    "## Textbook and Materials\n",
    "\n",
    " - [Deep Learning](https://www.deeplearningbook.org/) by Ian Goodfellow and Yoshua Bengio and Aaron Courville (2016).\n",
    " - [Reinforcement Learning: An Introduction](http://incompleteideas.net/book/the-book-2nd.html) by Richard S. Sutton and Andrew G. Barto (2018).\n",
    "\n",
    "## Software\n",
    "\n",
    " - Any OS should be okay. If in doubt, run a virtual machine running linux (this will be discussed in the class). Some of the software we will work with are:\n",
    "   - [Python](https://www.python.org/): Refer to [this set of notes](https://ocw.mit.edu/courses/electrical-engineering-and-computer-science/6-189-a-gentle-introduction-to-programming-using-python-january-iap-2011/lectures/) or [this](http://stanfordpython.com/) to get started in Python.\n",
    "   - [Jupyter](https://jupyter.org/)\n",
    "   - ...\n",
    "\n",
    "## Hardware\n",
    "\n",
    " - There will be varied computing resources needed for this course. \n",
    "   - We will rely on [Google Colab](https://colab.research.google.com/notebooks/), especially the GPU/TPU to train our deep learning models. \n",
    "   - Try using a virtual machine with linux on your own computer if needed. \n",
    "   - A Windows virtual desktop is available at [desktop.uic.edu](https://desktop.uic.edu) if needed. You can refer to [these](https://answers.uillinois.edu/uic/99368) two [help](https://accc.uic.edu/services/teaching-learning/learning-environments/virtual-computer-lab/) pages to get started. \n",
    "\t\t\t\n",
    "\n",
    "## Assignments\n",
    "\n",
    " 1. [Assignment 1](https://chicagodatascience.github.io/DeepLearning/pdfs/assignment01.pdf). Due 09-16. Example template [ipynb](https://chicagodatascience.github.io/DeepLearning/notebooks/Assignment1_Template.ipynb).\n",
    " 2. [Assignment 2](https://chicagodatascience.github.io/DeepLearning/pdfs/assignment02.pdf). Due 09-30.\n",
    " 3. [Assignment 3](https://chicagodatascience.github.io/DeepLearning/pdfs/assignment03.pdf). Due 10-21.\n",
    " 4. [Assignment 4](https://chicagodatascience.github.io/DeepLearning/pdfs/assignment04.pdf). Due 11-18.\n",
    "\n",
    " - These involve reimplementing recent deep-learning techniques and understanding their behavior on interesting datasets. Always mention any sources that were relied on, in your assignment solutions. Submission deadline is BEFORE 11.59 PM on the concerned day. Late submissions will have an automatic 20% penalty per day without exceptions. Use [Blackboard](https://uic.blackboard.com/) for uploads.\n",
    "\n",
    "## Project\n",
    "\n",
    " - Students are expected to apply what they learn in the course and demonstrate their understanding by undertaking a suitable project. A preliminary documentation along with the scripts/codes/commands used is to be submitted on <span style=\"color:red\">October 7th</span> and a final version of the same is to be submitted on <span style=\"color:red\">December 2nd</span>. The projects will be presented to the rest of the class on <span style=\"color:red\">December 3rd</span>. The evaluation criteria and other details are available [here](https://chicagodatascience.github.io/DeepLearning/pdfs/project_instructions.pdf). Submission deadline is BEFORE 11.59 PM on the concerned day. Late submissions will have an automatic 20% penalty per day. Use [Blackboard](https://uic.blackboard.com/) for uploading your work as a single zip file.\n",
    "\n",
    "## Grades\n",
    "\n",
    " - Grades will be based on the assignments (4 times 10%), the project (see project evaluation criteria above) (50%) and course participation (10%).\n",
    "\n",
    "## Miscellaneous Information\n",
    "\n",
    " - This is a 4 credit graduate level course offered by the Information and Decision Sciences department at UIC.\n",
    " - See the [academic calendar](http://catalog.uic.edu/ucat/academic-calendar/) for the semester timeline.\n",
    " - Students who wish to observe their religious holidays (http://oae.uic.edu/religious-calendar/) should notify the instructor within one week of the first lecture date. \n",
    " - Contact the instructor at the earliest, if you require any accommodations for access to and/or participation in this course.\n",
    " - Refer to the academic integrity guidelines set by the university."
   ],
   "cell_type": "markdown",
   "metadata": {}
  }
 ]
}